{
  "nbformat": 4,
  "nbformat_minor": 0,
  "metadata": {
    "colab": {
      "name": "filtering_common_books_from_amazon_and_goodreads.ipynb",
      "provenance": [],
      "collapsed_sections": [],
      "machine_shape": "hm"
    },
    "kernelspec": {
      "name": "python3",
      "display_name": "Python 3"
    },
    "language_info": {
      "name": "python"
    }
  },
  "cells": [
    {
      "cell_type": "code",
      "metadata": {
        "id": "2REGl2H0jXlm"
      },
      "source": [
        "import matplotlib.pyplot as plt\n",
        "import pandas as pd\n",
        "import numpy as np\n",
        "import json\n",
        "import pickle\n",
        "import wordcloud\n",
        "import re\n",
        "from dateutil.parser import parse"
      ],
      "execution_count": null,
      "outputs": []
    },
    {
      "cell_type": "code",
      "metadata": {
        "id": "OiEtinrfklog",
        "colab": {
          "base_uri": "https://localhost:8080/"
        },
        "outputId": "8addb503-fb6c-4307-8017-62df37e393ae"
      },
      "source": [
        "from google.colab import drive\n",
        "drive.mount('/content/drive/')"
      ],
      "execution_count": null,
      "outputs": [
        {
          "output_type": "stream",
          "text": [
            "Drive already mounted at /content/drive/; to attempt to forcibly remount, call drive.mount(\"/content/drive/\", force_remount=True).\n"
          ],
          "name": "stdout"
        }
      ]
    },
    {
      "cell_type": "markdown",
      "metadata": {
        "id": "WjVd6y5TJIag"
      },
      "source": [
        "### **Book info from Goodreads**"
      ]
    },
    {
      "cell_type": "code",
      "metadata": {
        "id": "NaW2f6pUknIg"
      },
      "source": [
        "book_info = []\n",
        "iter=0\n",
        "for line in open('/content/drive/My Drive/book_reviews/goodreads_books_fantasy_paranormal.json', 'r'):\n",
        "  book_info.append(json.loads(line))\n",
        "  \n",
        "book_info_df = pd.DataFrame.from_dict(book_info, orient='columns')\n",
        "\n",
        "\n",
        "\n",
        "## Loading pickle file\n",
        "\n",
        "with open(\"/content/drive/My Drive/english_filtered_book_ids.txt\", \"rb\") as fp:   #UnPickling\n",
        "  english_filtered_book_ids = pickle.load(fp)\n",
        "\n",
        "book_info_df = book_info_df.loc[book_info_df.book_id.isin(english_filtered_book_ids)]\n",
        "del (book_info)\n",
        "book_info_df[\"language_code\"] = \"english_merged\""
      ],
      "execution_count": null,
      "outputs": []
    },
    {
      "cell_type": "markdown",
      "metadata": {
        "id": "earhBUvQJNu2"
      },
      "source": [
        "### **Author info from goodreads**"
      ]
    },
    {
      "cell_type": "code",
      "metadata": {
        "id": "F1kE-y7AJER0"
      },
      "source": [
        "good_reads_authors = []\n",
        "iter=0\n",
        "for line in open('/content/drive/My Drive/book_reviews/goodreads_book_authors.json', 'r'):\n",
        "  good_reads_authors.append(json.loads(line))\n",
        "  \n",
        "good_reads_authors = pd.DataFrame.from_dict(good_reads_authors, orient='columns')"
      ],
      "execution_count": null,
      "outputs": []
    },
    {
      "cell_type": "code",
      "metadata": {
        "colab": {
          "base_uri": "https://localhost:8080/",
          "height": 248
        },
        "id": "we_mZ8UHJQ7_",
        "outputId": "2e6282b7-7ff0-46ff-f7c8-8674b93e7664"
      },
      "source": [
        "book_info_df[\"author_id\"] = book_info_df.authors.apply(lambda x: x[0][\"author_id\"] if len(x)>0 else \"\")\n",
        "\n",
        "# 2 rows does not have author ids\n",
        "book_info_df.loc[book_info_df.author_id == \"\"]"
      ],
      "execution_count": null,
      "outputs": [
        {
          "output_type": "execute_result",
          "data": {
            "text/html": [
              "<div>\n",
              "<style scoped>\n",
              "    .dataframe tbody tr th:only-of-type {\n",
              "        vertical-align: middle;\n",
              "    }\n",
              "\n",
              "    .dataframe tbody tr th {\n",
              "        vertical-align: top;\n",
              "    }\n",
              "\n",
              "    .dataframe thead th {\n",
              "        text-align: right;\n",
              "    }\n",
              "</style>\n",
              "<table border=\"1\" class=\"dataframe\">\n",
              "  <thead>\n",
              "    <tr style=\"text-align: right;\">\n",
              "      <th></th>\n",
              "      <th>isbn</th>\n",
              "      <th>text_reviews_count</th>\n",
              "      <th>series</th>\n",
              "      <th>country_code</th>\n",
              "      <th>language_code</th>\n",
              "      <th>popular_shelves</th>\n",
              "      <th>asin</th>\n",
              "      <th>is_ebook</th>\n",
              "      <th>average_rating</th>\n",
              "      <th>kindle_asin</th>\n",
              "      <th>similar_books</th>\n",
              "      <th>description</th>\n",
              "      <th>format</th>\n",
              "      <th>link</th>\n",
              "      <th>authors</th>\n",
              "      <th>publisher</th>\n",
              "      <th>num_pages</th>\n",
              "      <th>publication_day</th>\n",
              "      <th>isbn13</th>\n",
              "      <th>publication_month</th>\n",
              "      <th>edition_information</th>\n",
              "      <th>publication_year</th>\n",
              "      <th>url</th>\n",
              "      <th>image_url</th>\n",
              "      <th>book_id</th>\n",
              "      <th>ratings_count</th>\n",
              "      <th>work_id</th>\n",
              "      <th>title</th>\n",
              "      <th>title_without_series</th>\n",
              "      <th>author_id</th>\n",
              "    </tr>\n",
              "  </thead>\n",
              "  <tbody>\n",
              "    <tr>\n",
              "      <th>72992</th>\n",
              "      <td></td>\n",
              "      <td>1</td>\n",
              "      <td>[659982]</td>\n",
              "      <td>US</td>\n",
              "      <td>english_merged</td>\n",
              "      <td>[{'count': '41', 'name': 'to-read'}, {'count':...</td>\n",
              "      <td></td>\n",
              "      <td>true</td>\n",
              "      <td>3.89</td>\n",
              "      <td></td>\n",
              "      <td>[]</td>\n",
              "      <td></td>\n",
              "      <td></td>\n",
              "      <td>https://www.goodreads.com/book/show/7520314-th...</td>\n",
              "      <td>[]</td>\n",
              "      <td></td>\n",
              "      <td></td>\n",
              "      <td></td>\n",
              "      <td>2940000088760</td>\n",
              "      <td></td>\n",
              "      <td></td>\n",
              "      <td></td>\n",
              "      <td>https://www.goodreads.com/book/show/7520314-th...</td>\n",
              "      <td>https://s.gr-assets.com/assets/nophoto/book/11...</td>\n",
              "      <td>7520314</td>\n",
              "      <td>1</td>\n",
              "      <td>1025915</td>\n",
              "      <td>The Werewolf of Plonkert</td>\n",
              "      <td>The Werewolf of Plonkert</td>\n",
              "      <td></td>\n",
              "    </tr>\n",
              "    <tr>\n",
              "      <th>211618</th>\n",
              "      <td></td>\n",
              "      <td>1</td>\n",
              "      <td>[]</td>\n",
              "      <td>US</td>\n",
              "      <td>english_merged</td>\n",
              "      <td>[{'count': '17', 'name': 'to-read'}, {'count':...</td>\n",
              "      <td>B004UKF2MM</td>\n",
              "      <td>true</td>\n",
              "      <td>3.04</td>\n",
              "      <td>B004UKF2MM</td>\n",
              "      <td>[22609311, 856232, 18815796, 7861365, 18404125...</td>\n",
              "      <td></td>\n",
              "      <td></td>\n",
              "      <td>https://www.goodreads.com/book/show/11696786-t...</td>\n",
              "      <td>[]</td>\n",
              "      <td></td>\n",
              "      <td></td>\n",
              "      <td></td>\n",
              "      <td></td>\n",
              "      <td></td>\n",
              "      <td></td>\n",
              "      <td></td>\n",
              "      <td>https://www.goodreads.com/book/show/11696786-t...</td>\n",
              "      <td>https://s.gr-assets.com/assets/nophoto/book/11...</td>\n",
              "      <td>11696786</td>\n",
              "      <td>76</td>\n",
              "      <td>6450316</td>\n",
              "      <td>The Best Ghost Stories</td>\n",
              "      <td>The Best Ghost Stories</td>\n",
              "      <td></td>\n",
              "    </tr>\n",
              "  </tbody>\n",
              "</table>\n",
              "</div>"
            ],
            "text/plain": [
              "       isbn text_reviews_count  ...      title_without_series author_id\n",
              "72992                        1  ...  The Werewolf of Plonkert          \n",
              "211618                       1  ...    The Best Ghost Stories          \n",
              "\n",
              "[2 rows x 30 columns]"
            ]
          },
          "metadata": {
            "tags": []
          },
          "execution_count": 7
        }
      ]
    },
    {
      "cell_type": "code",
      "metadata": {
        "id": "NHiyRvCZJQ93"
      },
      "source": [
        "## Now we have Author names for the BOOKREADS dataset\n",
        "\n",
        "book_info_df = pd.merge(book_info_df, good_reads_authors, how=\"left\", on=\"author_id\")\n",
        "\n",
        "book_info_df = book_info_df.rename(columns={\"name\": \"author_name\"})"
      ],
      "execution_count": null,
      "outputs": []
    },
    {
      "cell_type": "markdown",
      "metadata": {
        "id": "6suBH0uWHwuy"
      },
      "source": [
        "## Saving the book_info with author name"
      ]
    },
    {
      "cell_type": "code",
      "metadata": {
        "id": "j84icnI2HvtC"
      },
      "source": [
        "book_info_df.to_pickle(\"/content/drive/My Drive/book_reviews/book_info_with_authors_df.pkl\")"
      ],
      "execution_count": null,
      "outputs": []
    },
    {
      "cell_type": "markdown",
      "metadata": {
        "id": "yaC9aHqrMhS-"
      },
      "source": [
        "## **Extracting amazon book info**"
      ]
    },
    {
      "cell_type": "code",
      "metadata": {
        "id": "fdsTNJNqEoWb"
      },
      "source": [
        "amazon_books = []\n",
        "iter=0\n",
        "for line in open('/content/drive/My Drive/amazon_reviews/meta_Books.json', 'r'):\n",
        "  amazon_books.append(json.loads(line))\n",
        "  \n",
        "amazon_books_df = pd.DataFrame.from_dict(amazon_books, orient='columns')"
      ],
      "execution_count": null,
      "outputs": []
    },
    {
      "cell_type": "markdown",
      "metadata": {
        "id": "A4ZTiO3GmF7r"
      },
      "source": [
        "## **Extracting Goodreads book info**"
      ]
    },
    {
      "cell_type": "code",
      "metadata": {
        "id": "saCoppg5mCuw"
      },
      "source": [
        "book_info_df = pd.read_pickle(\"/content/drive/My Drive/book_reviews/book_info_with_authors_df.pkl\")"
      ],
      "execution_count": null,
      "outputs": []
    },
    {
      "cell_type": "code",
      "metadata": {
        "id": "zDbHE8j_mrHS"
      },
      "source": [
        "## Adding \"amazon_columnname\" for all the amazon columns\n",
        "new_col_list = list()\n",
        "for col in amazon_books_df.columns.values:\n",
        "  new_col_list.append(\"amazon_\" + col)\n",
        "\n",
        "amazon_books_df.columns = new_col_list\n",
        "\n",
        "\n",
        "\n",
        "## Adding \"goodreads_columnname\" for all the goodreads columns\n",
        "new_col_list = list()\n",
        "for col in book_info_df.columns.values:\n",
        "  new_col_list.append(\"goodreads_\" + col)\n",
        "\n",
        "book_info_df.columns = new_col_list"
      ],
      "execution_count": null,
      "outputs": []
    },
    {
      "cell_type": "code",
      "metadata": {
        "id": "HKq9Ks4RaGNJ"
      },
      "source": [
        "book_info_df[\"goodreads_title_lower\"] = book_info_df.goodreads_title.apply(lambda x: x.lower())\n",
        "amazon_books_df[\"amazon_title_lower\"] = amazon_books_df.amazon_title.apply(lambda x: x.lower())\n",
        "\n",
        "\n",
        "def convert_lower_case(x):\n",
        "  try:\n",
        "    return x.lower()\n",
        "  except:\n",
        "    return x\n",
        "\n",
        "book_info_df[\"goodreads_author_name_lower\"] = book_info_df.goodreads_author_name.apply(convert_lower_case)\n",
        "amazon_books_df[\"amazon_brand_lower\"] = amazon_books_df.amazon_brand.apply(convert_lower_case)"
      ],
      "execution_count": null,
      "outputs": []
    },
    {
      "cell_type": "code",
      "metadata": {
        "id": "K7FLqbitn99L"
      },
      "source": [
        "book_info_df[\"goodreads_title_lower\"] = book_info_df.goodreads_title.apply(lambda x: x.lower())\n",
        "amazon_books_df[\"amazon_title_lower\"] = amazon_books_df.amazon_title.apply(lambda x: x.lower())\n",
        "\n",
        "#common_df = book_info_df.loc[book_info_df.goodreads_title_lower.isin(amazon_books_df.amazon_title_lower)]\n",
        "\n",
        "common_df = pd.merge(book_info_df, amazon_books_df, left_on=\"goodreads_title_lower\", right_on=\"amazon_title_lower\", how=\"inner\")"
      ],
      "execution_count": null,
      "outputs": []
    },
    {
      "cell_type": "code",
      "metadata": {
        "colab": {
          "base_uri": "https://localhost:8080/",
          "height": 203
        },
        "id": "xPMmHPhQqtqn",
        "outputId": "428dc2fb-71a3-482c-d903-01b2194ecc4e"
      },
      "source": [
        "common_df.loc[(common_df.goodreads_author_name!= common_df.amazon_brand)][[\"goodreads_author_name\", \"amazon_brand\", \"goodreads_title\", \"amazon_title\"]].sample(5)"
      ],
      "execution_count": null,
      "outputs": [
        {
          "output_type": "execute_result",
          "data": {
            "text/html": [
              "<div>\n",
              "<style scoped>\n",
              "    .dataframe tbody tr th:only-of-type {\n",
              "        vertical-align: middle;\n",
              "    }\n",
              "\n",
              "    .dataframe tbody tr th {\n",
              "        vertical-align: top;\n",
              "    }\n",
              "\n",
              "    .dataframe thead th {\n",
              "        text-align: right;\n",
              "    }\n",
              "</style>\n",
              "<table border=\"1\" class=\"dataframe\">\n",
              "  <thead>\n",
              "    <tr style=\"text-align: right;\">\n",
              "      <th></th>\n",
              "      <th>goodreads_author_name</th>\n",
              "      <th>amazon_brand</th>\n",
              "      <th>goodreads_title</th>\n",
              "      <th>amazon_title</th>\n",
              "    </tr>\n",
              "  </thead>\n",
              "  <tbody>\n",
              "    <tr>\n",
              "      <th>54473</th>\n",
              "      <td>Sierra Woods</td>\n",
              "      <td>Visit Amazon's Jack O'Connell Page</td>\n",
              "      <td>The Resurrectionist</td>\n",
              "      <td>The Resurrectionist</td>\n",
              "    </tr>\n",
              "    <tr>\n",
              "      <th>33754</th>\n",
              "      <td>Chanda Hahn</td>\n",
              "      <td>Visit Amazon's Lauren Burd Page</td>\n",
              "      <td>Forever</td>\n",
              "      <td>Forever</td>\n",
              "    </tr>\n",
              "    <tr>\n",
              "      <th>23865</th>\n",
              "      <td>G. Willow Wilson</td>\n",
              "      <td>Visit Amazon's G. Willow Wilson Page</td>\n",
              "      <td>Alif the Unseen</td>\n",
              "      <td>Alif the Unseen</td>\n",
              "    </tr>\n",
              "    <tr>\n",
              "      <th>90169</th>\n",
              "      <td>Pierdomenico Baccalario</td>\n",
              "      <td>Visit Amazon's Lawrence Blair Page</td>\n",
              "      <td>Ring of Fire</td>\n",
              "      <td>Ring of Fire</td>\n",
              "    </tr>\n",
              "    <tr>\n",
              "      <th>113763</th>\n",
              "      <td>Kim Fielding</td>\n",
              "      <td>John Wardlaw</td>\n",
              "      <td>Phoenix</td>\n",
              "      <td>Phoenix</td>\n",
              "    </tr>\n",
              "  </tbody>\n",
              "</table>\n",
              "</div>"
            ],
            "text/plain": [
              "          goodreads_author_name  ...         amazon_title\n",
              "54473              Sierra Woods  ...  The Resurrectionist\n",
              "33754               Chanda Hahn  ...              Forever\n",
              "23865          G. Willow Wilson  ...      Alif the Unseen\n",
              "90169   Pierdomenico Baccalario  ...         Ring of Fire\n",
              "113763             Kim Fielding  ...              Phoenix\n",
              "\n",
              "[5 rows x 4 columns]"
            ]
          },
          "metadata": {
            "tags": []
          },
          "execution_count": 29
        }
      ]
    },
    {
      "cell_type": "code",
      "metadata": {
        "id": "HRAoRTAibT2V"
      },
      "source": [
        "def check_match(x):\n",
        "  try:\n",
        "    if x.goodreads_author_name in x.amazon_brand:\n",
        "      return True\n",
        "    return False\n",
        "  except:\n",
        "    return \"NAN\"\n",
        "\n",
        "common_df[\"authors_match\"] = common_df.apply(check_match, axis=1)"
      ],
      "execution_count": null,
      "outputs": []
    },
    {
      "cell_type": "code",
      "metadata": {
        "colab": {
          "base_uri": "https://localhost:8080/"
        },
        "id": "z87Prwd4bT5g",
        "outputId": "2605f45e-b5a7-4565-f50b-021a9062fc43"
      },
      "source": [
        "print (\"% of match {}\".format(common_df.loc[common_df.authors_match == True].shape[0] / book_info_df.shape[0] * 100))"
      ],
      "execution_count": null,
      "outputs": [
        {
          "output_type": "stream",
          "text": [
            "% of match 16.107545000488756\n"
          ],
          "name": "stdout"
        }
      ]
    },
    {
      "cell_type": "code",
      "metadata": {
        "colab": {
          "base_uri": "https://localhost:8080/",
          "height": 417
        },
        "id": "aiVk3qb0imMS",
        "outputId": "c922f984-baa0-4190-cadc-1979aa746042"
      },
      "source": [
        "common_df[[\"goodreads_author_name\", \"amazon_brand\"]]"
      ],
      "execution_count": null,
      "outputs": [
        {
          "output_type": "execute_result",
          "data": {
            "text/html": [
              "<div>\n",
              "<style scoped>\n",
              "    .dataframe tbody tr th:only-of-type {\n",
              "        vertical-align: middle;\n",
              "    }\n",
              "\n",
              "    .dataframe tbody tr th {\n",
              "        vertical-align: top;\n",
              "    }\n",
              "\n",
              "    .dataframe thead th {\n",
              "        text-align: right;\n",
              "    }\n",
              "</style>\n",
              "<table border=\"1\" class=\"dataframe\">\n",
              "  <thead>\n",
              "    <tr style=\"text-align: right;\">\n",
              "      <th></th>\n",
              "      <th>goodreads_author_name</th>\n",
              "      <th>amazon_brand</th>\n",
              "    </tr>\n",
              "  </thead>\n",
              "  <tbody>\n",
              "    <tr>\n",
              "      <th>0</th>\n",
              "      <td>Lindsey Schussman</td>\n",
              "      <td>Visit Amazon's Lindsey Schussman Page</td>\n",
              "    </tr>\n",
              "    <tr>\n",
              "      <th>1</th>\n",
              "      <td>Andrzej Sapkowski</td>\n",
              "      <td>Visit Amazon's Nathan M. Greenfield Page</td>\n",
              "    </tr>\n",
              "    <tr>\n",
              "      <th>2</th>\n",
              "      <td>Andrzej Sapkowski</td>\n",
              "      <td>Visit Amazon's Frank Collins Page</td>\n",
              "    </tr>\n",
              "    <tr>\n",
              "      <th>3</th>\n",
              "      <td>Andrzej Sapkowski</td>\n",
              "      <td>Visit Amazon's Linda Grant De Pauw Page</td>\n",
              "    </tr>\n",
              "    <tr>\n",
              "      <th>4</th>\n",
              "      <td>Andrzej Sapkowski</td>\n",
              "      <td>Visit Amazon's Nathan M. Greenfield Page</td>\n",
              "    </tr>\n",
              "    <tr>\n",
              "      <th>...</th>\n",
              "      <td>...</td>\n",
              "      <td>...</td>\n",
              "    </tr>\n",
              "    <tr>\n",
              "      <th>131107</th>\n",
              "      <td>Jessica Day George</td>\n",
              "      <td>Visit Amazon's Jessica Day George Page</td>\n",
              "    </tr>\n",
              "    <tr>\n",
              "      <th>131108</th>\n",
              "      <td>Jessica Day George</td>\n",
              "      <td>Visit Amazon's Jessica Day George Page</td>\n",
              "    </tr>\n",
              "    <tr>\n",
              "      <th>131109</th>\n",
              "      <td>S.J. West</td>\n",
              "      <td>Visit Amazon's S.J. West Page</td>\n",
              "    </tr>\n",
              "    <tr>\n",
              "      <th>131110</th>\n",
              "      <td>David Borgenicht</td>\n",
              "      <td>Visit Amazon's David Borgenicht Page</td>\n",
              "    </tr>\n",
              "    <tr>\n",
              "      <th>131111</th>\n",
              "      <td>John Chambers</td>\n",
              "      <td>John Chambers</td>\n",
              "    </tr>\n",
              "  </tbody>\n",
              "</table>\n",
              "<p>131112 rows × 2 columns</p>\n",
              "</div>"
            ],
            "text/plain": [
              "       goodreads_author_name                              amazon_brand\n",
              "0          Lindsey Schussman     Visit Amazon's Lindsey Schussman Page\n",
              "1          Andrzej Sapkowski  Visit Amazon's Nathan M. Greenfield Page\n",
              "2          Andrzej Sapkowski         Visit Amazon's Frank Collins Page\n",
              "3          Andrzej Sapkowski   Visit Amazon's Linda Grant De Pauw Page\n",
              "4          Andrzej Sapkowski  Visit Amazon's Nathan M. Greenfield Page\n",
              "...                      ...                                       ...\n",
              "131107    Jessica Day George    Visit Amazon's Jessica Day George Page\n",
              "131108    Jessica Day George    Visit Amazon's Jessica Day George Page\n",
              "131109             S.J. West             Visit Amazon's S.J. West Page\n",
              "131110      David Borgenicht      Visit Amazon's David Borgenicht Page\n",
              "131111         John Chambers                             John Chambers\n",
              "\n",
              "[131112 rows x 2 columns]"
            ]
          },
          "metadata": {
            "tags": []
          },
          "execution_count": 55
        }
      ]
    },
    {
      "cell_type": "markdown",
      "metadata": {
        "id": "3tc4M0AzrIT4"
      },
      "source": [
        "### Saving common amazon and goodreads book info"
      ]
    },
    {
      "cell_type": "code",
      "metadata": {
        "id": "_ocgvVXgiKlL"
      },
      "source": [
        "book_info_with_authors_df_common = book_info_df.loc[book_info_df.goodreads_author_name.isin(common_df.goodreads_author_name) & (book_info_df.goodreads_title_lower.isin(common_df.goodreads_title_lower))]\n",
        "book_info_df_filtered.to_pickle(\"/content/drive/My Drive/book_reviews/book_info_with_authors_df_common.pkl\")"
      ],
      "execution_count": null,
      "outputs": []
    },
    {
      "cell_type": "code",
      "metadata": {
        "id": "0UG31aD3qLV0"
      },
      "source": [
        "amazon_books_df_common = amazon_books_df.loc[amazon_books_df.amazon_brand.isin(common_df.amazon_brand) & (amazon_books_df.amazon_title.isin(common_df.amazon_title))]\n",
        "amazon_books_df_common.to_pickle(\"/content/drive/My Drive/amazon_reviews/amazon_books_df_common.pkl\")"
      ],
      "execution_count": null,
      "outputs": []
    }
  ]
}