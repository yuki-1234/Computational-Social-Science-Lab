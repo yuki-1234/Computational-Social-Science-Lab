{
  "nbformat": 4,
  "nbformat_minor": 0,
  "metadata": {
    "colab": {
      "name": "exploratory_data_analysis_on_common_books.ipynb",
      "provenance": [],
      "collapsed_sections": [],
      "authorship_tag": "ABX9TyPQ7Iqt4e32yr4bJk1xroR6"
    },
    "kernelspec": {
      "name": "python3",
      "display_name": "Python 3"
    },
    "language_info": {
      "name": "python"
    }
  },
  "cells": [
    {
      "cell_type": "code",
      "metadata": {
        "id": "yBtHyNaglFg1"
      },
      "source": [
        "import pandas as pd\n",
        "import matplotlib.pyplot as plt\n",
        "import numpy as np"
      ],
      "execution_count": null,
      "outputs": []
    },
    {
      "cell_type": "code",
      "metadata": {
        "colab": {
          "base_uri": "https://localhost:8080/"
        },
        "id": "8_uYPH69laHa",
        "outputId": "a77dfbff-61fb-4409-a23a-d38e0d62eba5"
      },
      "source": [
        "from google.colab import drive\n",
        "drive.mount('/content/drive/')"
      ],
      "execution_count": null,
      "outputs": [
        {
          "output_type": "stream",
          "text": [
            "Mounted at /content/drive/\n"
          ],
          "name": "stdout"
        }
      ]
    },
    {
      "cell_type": "code",
      "metadata": {
        "id": "QiupMNEplbWf"
      },
      "source": [
        "amazon_common_books_df = pd.read_pickle(\"/content/drive/My Drive/amazon_reviews/amazon_books_df_common.pkl\")\n",
        "goodreads_common_books_df = pd.read_pickle(\"/content/drive/My Drive/book_reviews/book_info_with_authors_df_common.pkl\")"
      ],
      "execution_count": null,
      "outputs": []
    },
    {
      "cell_type": "markdown",
      "metadata": {
        "id": "HHf0JBrPmn02"
      },
      "source": [
        "## **Number of books based on Authors**"
      ]
    },
    {
      "cell_type": "code",
      "metadata": {
        "id": "s5NbzrGSmx-M"
      },
      "source": [
        "goodreads_per_author =  goodreads_common_books_df.groupby(\"goodreads_author_id\").count()[\"goodreads_isbn\"].reset_index().sort_values(by=\"goodreads_isbn\", ascending=False)"
      ],
      "execution_count": null,
      "outputs": []
    },
    {
      "cell_type": "code",
      "metadata": {
        "id": "nhMnbbdTm-Bm"
      },
      "source": [
        "amazon_per_author = amazon_common_books_df.groupby(\"amazon_brand\").count()[\"amazon_asin\"].reset_index().sort_values(by=\"amazon_asin\", ascending=False)"
      ],
      "execution_count": null,
      "outputs": []
    },
    {
      "cell_type": "code",
      "metadata": {
        "colab": {
          "base_uri": "https://localhost:8080/",
          "height": 333
        },
        "id": "VvI8PMohnQ-w",
        "outputId": "d3401096-6760-40c4-ee4e-066b1943ec33"
      },
      "source": [
        "plt.figure(figsize=(20,5))\n",
        "\n",
        "plt.subplot(1, 2, 1)\n",
        "plt.bar(goodreads_per_author.goodreads_author_id[:200], goodreads_per_author.goodreads_isbn[:200], color=\"blue\")\n",
        "plt.xticks([])\n",
        "plt.ylabel(\"Number of Books\", fontweight=\"bold\", fontsize=12)\n",
        "plt.title(\"Number of Books for every Authors for Goodreads\", fontweight=\"bold\", fontsize=12)\n",
        "plt.xlabel(\"authors\")\n",
        "plt.yticks(fontweight=\"bold\", fontsize=12)\n",
        "\n",
        "plt.subplot(1, 2, 2)\n",
        "plt.bar(amazon_per_author.loc[amazon_per_author.amazon_brand!=\"\"].amazon_brand[:200], amazon_per_author.loc[amazon_per_author.amazon_brand!=\"\"].amazon_asin[:200], color=\"red\")\n",
        "plt.xticks([])\n",
        "plt.ylabel(\"Number of Books\", fontweight=\"bold\", fontsize=12)\n",
        "plt.title(\"Number of Books for every Authors for Amazon\", fontweight=\"bold\", fontsize=12)\n",
        "plt.yticks(fontweight=\"bold\", fontsize=12)\n",
        "plt.xlabel(\"authors\")\n",
        "plt.show()"
      ],
      "execution_count": null,
      "outputs": [
        {
          "output_type": "display_data",
          "data": {
            "image/png": "[encoded data removed]",
            "text/plain": [
              "<Figure size 1440x360 with 2 Axes>"
            ]
          },
          "metadata": {
            "tags": [],
            "needs_background": "light"
          }
        }
      ]
    },
    {
      "cell_type": "code",
      "metadata": {
        "colab": {
          "base_uri": "https://localhost:8080/",
          "height": 417
        },
        "id": "JCckj4HzoiP5",
        "outputId": "4c6b3b24-b16d-4969-ae2d-fbace24fb2fe"
      },
      "source": [
        "amazon_per_author.loc[amazon_per_author.amazon_brand!=\"\"]"
      ],
      "execution_count": null,
      "outputs": [
        {
          "output_type": "execute_result",
          "data": {
            "text/html": [
              "<div>\n",
              "<style scoped>\n",
              "    .dataframe tbody tr th:only-of-type {\n",
              "        vertical-align: middle;\n",
              "    }\n",
              "\n",
              "    .dataframe tbody tr th {\n",
              "        vertical-align: top;\n",
              "    }\n",
              "\n",
              "    .dataframe thead th {\n",
              "        text-align: right;\n",
              "    }\n",
              "</style>\n",
              "<table border=\"1\" class=\"dataframe\">\n",
              "  <thead>\n",
              "    <tr style=\"text-align: right;\">\n",
              "      <th></th>\n",
              "      <th>amazon_brand</th>\n",
              "      <th>amazon_asin</th>\n",
              "    </tr>\n",
              "  </thead>\n",
              "  <tbody>\n",
              "    <tr>\n",
              "      <th>11776</th>\n",
              "      <td>Visit Amazon's Andre Norton Page</td>\n",
              "      <td>63</td>\n",
              "    </tr>\n",
              "    <tr>\n",
              "      <th>19506</th>\n",
              "      <td>Visit Amazon's Jane Yolen Page</td>\n",
              "      <td>45</td>\n",
              "    </tr>\n",
              "    <tr>\n",
              "      <th>25401</th>\n",
              "      <td>Visit Amazon's Michael Moorcock Page</td>\n",
              "      <td>41</td>\n",
              "    </tr>\n",
              "    <tr>\n",
              "      <th>30701</th>\n",
              "      <td>Visit Amazon's Terry Pratchett Page</td>\n",
              "      <td>41</td>\n",
              "    </tr>\n",
              "    <tr>\n",
              "      <th>22246</th>\n",
              "      <td>Visit Amazon's Kentaro Miura Page</td>\n",
              "      <td>35</td>\n",
              "    </tr>\n",
              "    <tr>\n",
              "      <th>...</th>\n",
              "      <td>...</td>\n",
              "      <td>...</td>\n",
              "    </tr>\n",
              "    <tr>\n",
              "      <th>10932</th>\n",
              "      <td>Visit Amazon's A. M. Albaugh Page</td>\n",
              "      <td>1</td>\n",
              "    </tr>\n",
              "    <tr>\n",
              "      <th>10931</th>\n",
              "      <td>Visit Amazon's A. Lynden Rolland Page</td>\n",
              "      <td>1</td>\n",
              "    </tr>\n",
              "    <tr>\n",
              "      <th>10930</th>\n",
              "      <td>Visit Amazon's A. Lopez  Jr. Page</td>\n",
              "      <td>1</td>\n",
              "    </tr>\n",
              "    <tr>\n",
              "      <th>10927</th>\n",
              "      <td>Visit Amazon's A. L. Sowards Page</td>\n",
              "      <td>1</td>\n",
              "    </tr>\n",
              "    <tr>\n",
              "      <th>32539</th>\n",
              "      <td>yvind Torseter</td>\n",
              "      <td>1</td>\n",
              "    </tr>\n",
              "  </tbody>\n",
              "</table>\n",
              "<p>32539 rows × 2 columns</p>\n",
              "</div>"
            ],
            "text/plain": [
              "                                amazon_brand  amazon_asin\n",
              "11776       Visit Amazon's Andre Norton Page           63\n",
              "19506         Visit Amazon's Jane Yolen Page           45\n",
              "25401   Visit Amazon's Michael Moorcock Page           41\n",
              "30701    Visit Amazon's Terry Pratchett Page           41\n",
              "22246      Visit Amazon's Kentaro Miura Page           35\n",
              "...                                      ...          ...\n",
              "10932      Visit Amazon's A. M. Albaugh Page            1\n",
              "10931  Visit Amazon's A. Lynden Rolland Page            1\n",
              "10930      Visit Amazon's A. Lopez  Jr. Page            1\n",
              "10927      Visit Amazon's A. L. Sowards Page            1\n",
              "32539                         yvind Torseter            1\n",
              "\n",
              "[32539 rows x 2 columns]"
            ]
          },
          "metadata": {
            "tags": []
          },
          "execution_count": 42
        }
      ]
    },
    {
      "cell_type": "code",
      "metadata": {
        "colab": {
          "base_uri": "https://localhost:8080/",
          "height": 333
        },
        "id": "no_afrCuoSzN",
        "outputId": "5f1251bd-7263-4217-c0aa-7984318a9cc3"
      },
      "source": [
        "plt.figure(figsize=(20,5))\n",
        "plt.bar(amazon_per_author.loc[amazon_per_author.amazon_brand!=\"\"].amazon_brand[:200], amazon_per_author.loc[amazon_per_author.amazon_brand!=\"\"].amazon_asin[:200], color=\"red\")\n",
        "plt.xticks([])\n",
        "plt.ylabel(\"Number of Books\", fontweight=\"bold\", fontsize=12)\n",
        "plt.title(\"Number of Books for every Authors for Amazon\", fontweight=\"bold\", fontsize=12)\n",
        "plt.yticks(fontweight=\"bold\", fontsize=12)\n",
        "plt.xlabel(\"authors\")\n",
        "plt.show()"
      ],
      "execution_count": null,
      "outputs": [
        {
          "output_type": "display_data",
          "data": {
            "image/png": "[encoded data removed]",
            "text/plain": [
              "<Figure size 1440x360 with 1 Axes>"
            ]
          },
          "metadata": {
            "tags": [],
            "needs_background": "light"
          }
        }
      ]
    },
    {
      "cell_type": "markdown",
      "metadata": {
        "id": "bHE-PqIfqfA1"
      },
      "source": [
        "## **Number of reviews per book**"
      ]
    },
    {
      "cell_type": "code",
      "metadata": {
        "id": "Dq_szHiLqhhA"
      },
      "source": [
        "book_info_df = pd.read_pickle(\"/content/drive/My Drive/book_reviews/book_info_with_authors_df_common.pkl\")\n",
        "book_reviews_df = pd.read_pickle(\"/content/drive/My Drive/book_reviews/goodreads_reviews_df_common.pkl\")\n",
        "\n",
        "amazon_book_df = pd.read_pickle(\"/content/drive/My Drive/amazon_reviews/amazon_books_df_common.pkl\")\n",
        "amazon_reviews_df = pd.read_pickle(\"/content/drive/My Drive/amazon_reviews/amazon_reviews_df_common.pkl\")"
      ],
      "execution_count": null,
      "outputs": []
    },
    {
      "cell_type": "code",
      "metadata": {
        "colab": {
          "base_uri": "https://localhost:8080/"
        },
        "id": "mMhn-QBty-Zd",
        "outputId": "c5768a49-7577-448b-88a0-4fb484f5ea78"
      },
      "source": [
        "book_info_df.goodreads_title.shape"
      ],
      "execution_count": null,
      "outputs": [
        {
          "output_type": "execute_result",
          "data": {
            "text/plain": [
              "(45476,)"
            ]
          },
          "metadata": {
            "tags": []
          },
          "execution_count": 19
        }
      ]
    },
    {
      "cell_type": "code",
      "metadata": {
        "id": "MAmTM8sYqnwX"
      },
      "source": [
        "book_df = pd.merge(book_info_df, book_reviews_df, left_on=\"goodreads_book_id\", right_on=\"book_id\", how=\"inner\")"
      ],
      "execution_count": null,
      "outputs": []
    },
    {
      "cell_type": "code",
      "metadata": {
        "id": "zXp6XZh_rOwK"
      },
      "source": [
        "num_reviews_per_book = book_reviews_df.groupby(\"book_id\").count()[[\"review_id\"]].reset_index().rename(columns={\"review_id\": \"num_reviews\"})"
      ],
      "execution_count": null,
      "outputs": []
    },
    {
      "cell_type": "code",
      "metadata": {
        "colab": {
          "base_uri": "https://localhost:8080/"
        },
        "id": "-DcYj47asJEr",
        "outputId": "6fb46f68-3e3e-4b0c-eb06-46cf78921585"
      },
      "source": [
        "num_reviews_per_book.columns"
      ],
      "execution_count": null,
      "outputs": [
        {
          "output_type": "execute_result",
          "data": {
            "text/plain": [
              "Index(['book_id', 'num_reviews'], dtype='object')"
            ]
          },
          "metadata": {
            "tags": []
          },
          "execution_count": 22
        }
      ]
    },
    {
      "cell_type": "code",
      "metadata": {
        "id": "8KNRSvMir6ow"
      },
      "source": [
        "num_reviews_per_book = num_reviews_per_book.sort_values(by=\"num_reviews\", ascending=False)"
      ],
      "execution_count": null,
      "outputs": []
    },
    {
      "cell_type": "code",
      "metadata": {
        "colab": {
          "base_uri": "https://localhost:8080/",
          "height": 333
        },
        "id": "jgSYVdEBrO6c",
        "outputId": "017d0fb6-59de-48d3-8fd9-0c8d179db79f"
      },
      "source": [
        "plt.figure(figsize=(20,5))\n",
        "plt.bar(num_reviews_per_book.book_id[:200], num_reviews_per_book.num_reviews[:200], color=\"blue\")\n",
        "plt.xticks([])\n",
        "plt.ylabel(\"Number of Reviews\", fontweight=\"bold\", fontsize=12)\n",
        "plt.title(\"Number of Reviews for every book id for Goodreads\", fontweight=\"bold\", fontsize=12)\n",
        "plt.yticks(fontweight=\"bold\", fontsize=12)\n",
        "plt.xlabel(\"books\")\n",
        "plt.show()"
      ],
      "execution_count": null,
      "outputs": [
        {
          "output_type": "display_data",
          "data": {
            "image/png": "[encoded data removed]",
            "text/plain": [
              "<Figure size 1440x360 with 1 Axes>"
            ]
          },
          "metadata": {
            "tags": [],
            "needs_background": "light"
          }
        }
      ]
    },
    {
      "cell_type": "code",
      "metadata": {
        "id": "AcfPLO1MvO_B"
      },
      "source": [
        "amazon_df = pd.merge(amazon_book_df, amazon_reviews_df, how=\"inner\", left_on=\"amazon_asin\", right_on=\"asin\")"
      ],
      "execution_count": null,
      "outputs": []
    },
    {
      "cell_type": "code",
      "metadata": {
        "id": "Z9yAkx1WvRBS"
      },
      "source": [
        "amazon_num_reviews_per_book = amazon_df.groupby(\"asin\").count()[[\"reviewerID\"]].reset_index().rename(columns={\"reviewerID\": \"num_reviews\"})\n",
        "amazon_num_reviews_per_book = amazon_num_reviews_per_book.sort_values(by=\"num_reviews\", ascending=False)"
      ],
      "execution_count": null,
      "outputs": []
    },
    {
      "cell_type": "code",
      "metadata": {
        "colab": {
          "base_uri": "https://localhost:8080/",
          "height": 336
        },
        "id": "1I9WF4rLsfqy",
        "outputId": "85b65b85-e98a-44d2-fbb4-db23777932bb"
      },
      "source": [
        "plt.figure(figsize=(20,5))\n",
        "plt.bar(amazon_num_reviews_per_book.asin[:200], amazon_num_reviews_per_book.num_reviews[:200], color=\"red\")\n",
        "plt.xticks([])\n",
        "plt.ylabel(\"Number of Reviews\", fontweight=\"bold\", fontsize=13)\n",
        "plt.title(\"Number of Reviews for every book id for Amazon\", fontweight=\"bold\", fontsize=13)\n",
        "plt.xlabel(\"books\", fontweight=\"bold\", fontsize=13)\n",
        "plt.yticks(fontweight=\"bold\", fontsize=12)\n",
        "plt.show()"
      ],
      "execution_count": null,
      "outputs": [
        {
          "output_type": "display_data",
          "data": {
            "image/png": "[encoded data removed]",
            "text/plain": [
              "<Figure size 1440x360 with 1 Axes>"
            ]
          },
          "metadata": {
            "tags": [],
            "needs_background": "light"
          }
        }
      ]
    },
    {
      "cell_type": "code",
      "metadata": {
        "id": "5DRzlCYV5n4t"
      },
      "source": [
        ""
      ],
      "execution_count": null,
      "outputs": []
    }
  ]
}