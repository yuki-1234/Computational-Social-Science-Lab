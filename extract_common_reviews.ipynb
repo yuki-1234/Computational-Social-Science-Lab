{
  "nbformat": 4,
  "nbformat_minor": 0,
  "metadata": {
    "colab": {
      "name": "extract_common_reviews.ipynb",
      "provenance": [],
      "collapsed_sections": [],
      "authorship_tag": "ABX9TyND8vjfjDOFVSj41qqlbxzX"
    },
    "kernelspec": {
      "name": "python3",
      "display_name": "Python 3"
    },
    "language_info": {
      "name": "python"
    }
  },
  "cells": [
    {
      "cell_type": "code",
      "metadata": {
        "id": "KBbfUwDF-26Y"
      },
      "source": [
        "import matplotlib.pyplot as plt\n",
        "import pandas as pd\n",
        "import numpy as np\n",
        "import json\n",
        "import pickle\n",
        "import wordcloud\n",
        "import re\n",
        "from dateutil.parser import parse"
      ],
      "execution_count": null,
      "outputs": []
    },
    {
      "cell_type": "code",
      "metadata": {
        "colab": {
          "base_uri": "https://localhost:8080/"
        },
        "id": "NkXiV_Wd-71_",
        "outputId": "46557389-2ff3-4556-d560-bcda7f81f1ff"
      },
      "source": [
        "from google.colab import drive\n",
        "drive.mount('/content/drive/')"
      ],
      "execution_count": null,
      "outputs": [
        {
          "output_type": "stream",
          "text": [
            "Mounted at /content/drive/\n"
          ],
          "name": "stdout"
        }
      ]
    },
    {
      "cell_type": "markdown",
      "metadata": {
        "id": "0uOjUEa0_4Ic"
      },
      "source": [
        "## **For Goodreads**"
      ]
    },
    {
      "cell_type": "code",
      "metadata": {
        "id": "Esjk2cXG-74Q"
      },
      "source": [
        "book_info_with_authors_df_common = pd.read_pickle(\"/content/drive/My Drive/book_reviews/book_info_with_authors_df_common.pkl\")"
      ],
      "execution_count": null,
      "outputs": []
    },
    {
      "cell_type": "code",
      "metadata": {
        "id": "6puX6x2X-76h"
      },
      "source": [
        "reviews = []\n",
        "iter=0\n",
        "for line in open('/content/drive/My Drive/book_reviews/goodreads_reviews_fantasy_paranormal.json', 'r'):\n",
        "  if json.loads(line)[\"book_id\"] in book_info_with_authors_df_common.goodreads_book_id.values: \n",
        "    reviews.append(json.loads(line))"
      ],
      "execution_count": null,
      "outputs": []
    },
    {
      "cell_type": "code",
      "metadata": {
        "id": "88epINF4-_Kr"
      },
      "source": [
        "reviews_df = pd.DataFrame.from_dict(reviews, orient='columns')"
      ],
      "execution_count": null,
      "outputs": []
    },
    {
      "cell_type": "code",
      "metadata": {
        "id": "4Lrgs2gt_BzF"
      },
      "source": [
        "reviews_df.to_pickle(\"/content/drive/My Drive/book_reviews/goodreads_reviews_df_common.pkl\")"
      ],
      "execution_count": null,
      "outputs": []
    },
    {
      "cell_type": "markdown",
      "metadata": {
        "id": "wTC-gcYAFXsa"
      },
      "source": [
        "## **For Amazon**"
      ]
    },
    {
      "cell_type": "code",
      "metadata": {
        "colab": {
          "base_uri": "https://localhost:8080/"
        },
        "id": "j2o5Qtg6FaDK",
        "outputId": "259fc215-7663-4c95-c504-0cf7a1e31daa"
      },
      "source": [
        "!pip install pyspark\n",
        "!pip install sparkpickle"
      ],
      "execution_count": null,
      "outputs": [
        {
          "output_type": "stream",
          "text": [
            "Collecting pyspark\n",
            "\u001b[?25l  Downloading https://files.pythonhosted.org/packages/89/db/e18cfd78e408de957821ec5ca56de1250645b05f8523d169803d8df35a64/pyspark-3.1.2.tar.gz (212.4MB)\n",
            "\u001b[K     |████████████████████████████████| 212.4MB 48kB/s \n",
            "\u001b[?25hCollecting py4j==0.10.9\n",
            "\u001b[?25l  Downloading https://files.pythonhosted.org/packages/9e/b6/6a4fb90cd235dc8e265a6a2067f2a2c99f0d91787f06aca4bcf7c23f3f80/py4j-0.10.9-py2.py3-none-any.whl (198kB)\n",
            "\u001b[K     |████████████████████████████████| 204kB 14.6MB/s \n",
            "\u001b[?25hBuilding wheels for collected packages: pyspark\n",
            "  Building wheel for pyspark (setup.py) ... \u001b[?25l\u001b[?25hdone\n",
            "  Created wheel for pyspark: filename=pyspark-3.1.2-py2.py3-none-any.whl size=212880768 sha256=27463ead1ad82e36d43b481938c82a33a3759134331a9b9f48a10e08db53617c\n",
            "  Stored in directory: /root/.cache/pip/wheels/40/1b/2c/30f43be2627857ab80062bef1527c0128f7b4070b6b2d02139\n",
            "Successfully built pyspark\n",
            "Installing collected packages: py4j, pyspark\n",
            "Successfully installed py4j-0.10.9 pyspark-3.1.2\n",
            "Collecting sparkpickle\n",
            "  Downloading https://files.pythonhosted.org/packages/2e/3d/f2af239ad6f9a1e0c851a105b663642fcbf11718aba1e014fc43d3382029/sparkpickle-1.0.1.tar.gz\n",
            "Building wheels for collected packages: sparkpickle\n",
            "  Building wheel for sparkpickle (setup.py) ... \u001b[?25l\u001b[?25hdone\n",
            "  Created wheel for sparkpickle: filename=sparkpickle-1.0.1-cp37-none-any.whl size=27402 sha256=85b84850abc9cc362ec1d9dbf484f1616d2eede966a9217908b932b6002b9e73\n",
            "  Stored in directory: /root/.cache/pip/wheels/81/83/f7/189f6eda49941039142c83e56e711a956068009daaff49acb0\n",
            "Successfully built sparkpickle\n",
            "Installing collected packages: sparkpickle\n",
            "Successfully installed sparkpickle-1.0.1\n"
          ],
          "name": "stdout"
        }
      ]
    },
    {
      "cell_type": "code",
      "metadata": {
        "id": "7cGhTX6RYEGO"
      },
      "source": [
        "import pickle\n",
        "import pandas as pd\n",
        "import os\n",
        "import glob\n",
        "import pyspark\n",
        "from pyspark.sql import SparkSession\n",
        "import sparkpickle\n",
        "\n",
        "spark = SparkSession.builder.appName('abc').getOrCreate()"
      ],
      "execution_count": null,
      "outputs": []
    },
    {
      "cell_type": "code",
      "metadata": {
        "id": "DdEWaXONcseK"
      },
      "source": [
        "path = \"/content/drive/My Drive/common_books_amazon_reviews/0-20210517T062550Z-001/0/\""
      ],
      "execution_count": null,
      "outputs": []
    },
    {
      "cell_type": "code",
      "metadata": {
        "id": "afF0yATCcg9g"
      },
      "source": [
        "list_of_files = []\n",
        "for x in glob.glob('/content/drive/My Drive/common_books_amazon_reviews/0-20210517T062550Z-001/0/task*/part-*'):\n",
        "  list_of_files.append(x)"
      ],
      "execution_count": null,
      "outputs": []
    },
    {
      "cell_type": "code",
      "metadata": {
        "id": "vPft6v1OYMsA"
      },
      "source": [
        "list_review_dict = []\n",
        "\n",
        "for path in list_of_files:\n",
        "  with open(path, \"rb\") as f:\n",
        "      temp = sparkpickle.load(f)\n",
        "      for sql_row in temp:\n",
        "        row_dict = sql_row.asDict()\n",
        "        del row_dict[\"style\"]\n",
        "        list_review_dict.append(row_dict)"
      ],
      "execution_count": null,
      "outputs": []
    },
    {
      "cell_type": "code",
      "metadata": {
        "id": "_5RgYCcYhw3u"
      },
      "source": [
        "list_review_df = pd.DataFrame(list_review_dict)"
      ],
      "execution_count": null,
      "outputs": []
    },
    {
      "cell_type": "code",
      "metadata": {
        "id": "nt6czENykXuB"
      },
      "source": [
        "list_review_df.to_pickle(\"/content/drive/My Drive/amazon_reviews/amazon_reviews_df_common.pkl\")"
      ],
      "execution_count": null,
      "outputs": []
    }
  ]
}